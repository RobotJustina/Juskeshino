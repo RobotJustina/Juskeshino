{
 "cells": [
  {
   "cell_type": "code",
   "execution_count": null,
   "metadata": {},
   "outputs": [],
   "source": [
    "from smach_utils_justina import *"
   ]
  },
  {
   "cell_type": "markdown",
   "metadata": {},
   "source": [
    "### Sphinx"
   ]
  },
  {
   "cell_type": "code",
   "execution_count": null,
   "metadata": {},
   "outputs": [],
   "source": [
    "last = JuskeshinoHRI.getLastRecognizedSentence()\n",
    "print(\"last:\", last)\n",
    "rospy.sleep(0.5)\n",
    "\n",
    "mesage_catch = JuskeshinoHRI.waitForNewSentence(5)\n",
    "print(mesage_catch)"
   ]
  },
  {
   "cell_type": "markdown",
   "metadata": {},
   "source": [
    "### vosk"
   ]
  },
  {
   "cell_type": "code",
   "execution_count": null,
   "metadata": {},
   "outputs": [],
   "source": [
    "drinks = ['coke','juice','milk', 'water', 'soda', 'wine', \n",
    "            'i want a', 'i would like a', 'tea', 'icedtea', 'cola', 'redwine', 'orangejuice', 'tropicaljuice']\n",
    "\n",
    "names = [' my name is' , 'i am','adel', 'angel', 'axel', \n",
    "            'charlie', 'jane', 'john', 'jules', 'morgan', 'paris', 'robin', 'simone', 'jack']\n",
    "confirmation = ['yes','no', 'robot yes', 'robot no','not','now','nope','yeah']                     \n",
    "gram = drinks + names + confirmation \n",
    "set_grammar(gram)"
   ]
  },
  {
   "cell_type": "code",
   "execution_count": null,
   "metadata": {},
   "outputs": [],
   "source": [
    "confirmation = get_keywords_speech(2)\n",
    "print(confirmation)\n",
    "#Hard to catch \"no\""
   ]
  },
  {
   "cell_type": "code",
   "execution_count": null,
   "metadata": {},
   "outputs": [],
   "source": [
    "omni_base.tiny_move(0,0,.5)"
   ]
  },
  {
   "cell_type": "code",
   "execution_count": null,
   "metadata": {},
   "outputs": [],
   "source": [
    "#######"
   ]
  },
  {
   "cell_type": "code",
   "execution_count": null,
   "metadata": {},
   "outputs": [],
   "source": [
    "tf_man.getTF(\"camera_rgb_optical_frame\", 'map')"
   ]
  },
  {
   "cell_type": "code",
   "execution_count": null,
   "metadata": {},
   "outputs": [],
   "source": [
    "position = [-0.2710649371147156, 0.21099962294101715, 1.3295106887817383]\n",
    "object_point = PointStamped()\n",
    "rospy.sleep(0.5)\n",
    "object_point.header.frame_id = \"camera_rgb_optical_frame\" # take: \"head_rgbd_sensor_rgb_frame\"\n",
    "object_point.point.x = position[0]\n",
    "object_point.point.y = position[1]\n",
    "object_point.point.z = position[2]\n",
    "print(\"obj.point\", object_point)\n",
    "tfBuffer.transform(object_point, \"map\", timeout=rospy.Duration(2))"
   ]
  }
 ],
 "metadata": {
  "kernelspec": {
   "display_name": "Python 3",
   "language": "python",
   "name": "python3"
  },
  "language_info": {
   "codemirror_mode": {
    "name": "ipython",
    "version": 3
   },
   "file_extension": ".py",
   "mimetype": "text/x-python",
   "name": "python",
   "nbconvert_exporter": "python",
   "pygments_lexer": "ipython3",
   "version": "3.8.10"
  }
 },
 "nbformat": 4,
 "nbformat_minor": 2
}
